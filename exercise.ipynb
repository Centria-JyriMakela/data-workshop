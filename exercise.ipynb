{
 "cells": [
  {
   "cell_type": "markdown",
   "metadata": {},
   "source": [
    "# Työpaja 19.2.2025 Tehtävä osuus\n",
    "\n",
    "Tehtävänäsi on luoda samanlainen tiedosto kuin material.ipynb, mutta eri tilin nimellä. Joten joudut tutustumaan työpajan mukana tulleisiin csv-tiedostoihin ja valitsemaan sieltä saman nimiset tilin nimet tai lähes samalta kuulostavat ja verrata niitä keskenään näiden kahden kunnan välillä.\n",
    "\n",
    "## Vaiheet lyhyesti\n",
    "1. Käy läpi materiaali\n",
    "2. Käy läpi csv-tiedostot ja valitse sieltä löytyvistä \"Tilin nimi\"-sarakkeista lähes toisiaan kuvaavat.\n",
    "3. Katso vinkkejä materiaalin esimerkeistä, miten voit lähteä ratkomaan tätä.\n",
    "\n",
    "## Apua saa, jos sitä uskaltaa kysyä\n",
    "Kun jäät jumiin johonkin kohtaan, niin pyydä rohkeasti apua työpajan vetäjiltä."
   ]
  }
 ],
 "metadata": {
  "language_info": {
   "name": "python"
  }
 },
 "nbformat": 4,
 "nbformat_minor": 2
}
