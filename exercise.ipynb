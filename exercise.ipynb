{
 "cells": [
  {
   "cell_type": "markdown",
   "metadata": {},
   "source": [
    "# Työpaja 19.2.2025 Tehtävä osuus\n",
    "\n",
    "Tehtävänäsi on luoda samanlainen tiedosto kuin material.ipynb, mutta valitse toinen tilin nimi. Joten joudut tutustumaan työpajan mukana tulleisiin csv-tiedostoihin ja valitsemaan sieltä saman nimiset tilin nimet tai lähes samalta kuulostavat ja verrata niitä keskenään näiden kahden kunnan välillä.\n",
    "\n",
    "## Vaiheet lyhyesti\n",
    "1. Asenna kirjastot kirjoittamalla terminaaliin ```pip install -r /path/to/requirements.txt```\n",
    "2. Käy läpi materiaali\n",
    "3. Käy läpi csv-tiedostot ja valitse sieltä löytyvistä \"Tilin nimi\"-sarakkeista lähes toisiaan kuvaavat.\n",
    "4. Katso vinkkejä materiaalin esimerkeistä, miten voit lähteä ratkomaan tätä.\n",
    "\n",
    "## Apua saa, jos sitä uskaltaa kysyä\n",
    "Kun jäät jumiin johonkin kohtaan, niin pyydä rohkeasti apua työpajan vetäjiltä."
   ]
  },
  {
   "cell_type": "markdown",
   "metadata": {},
   "source": [
    "## Dokumentaatiota\n",
    "- [Pandas](https://pandas.pydata.org/docs/user_guide/index.html#user-guide)\n",
    "- [Matplotlib](https://matplotlib.org/stable/users/index)\n",
    "- [Numpy](https://numpy.org/doc/stable/user/index.html)\n"
   ]
  }
 ],
 "metadata": {
  "language_info": {
   "name": "python"
  }
 },
 "nbformat": 4,
 "nbformat_minor": 2
}
