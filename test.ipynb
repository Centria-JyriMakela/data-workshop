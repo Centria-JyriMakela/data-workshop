{
 "cells": [
  {
   "cell_type": "markdown",
   "metadata": {},
   "source": [
    "# DATA JA RAJAPINTA TYÖPAJA - 19.2.2025\n",
    "\n",
    "## Työpajaohjeistus\n",
    "Työpajan tarkoituksena on opettaa Jupyter Notebooksin käyttöä datan analysointiin ja visualisointiin, sekä näyttää kuinka dataa voidaan hakea rajapinnasta.\n",
    "\n",
    "Työpaja on jaettu kolmeen osaan:\n",
    "1. Datan analysointi\n",
    "2. Datan visualisointi\n",
    "3. Datan hakeminen rajapinnan kautta\n",
    "\n",
    "Työpajan aikana voi kysyä apua asiantuntijoilta.\n"
   ]
  },
  {
   "cell_type": "markdown",
   "metadata": {},
   "source": [
    "## Työpaja osa - 1\n",
    "Tiedostoista löytyy kahden kunnan, Kauhajoen ja Hämeenlinnan, vuoden 2023 ostolaskut. Tehtävänäsi on käydä läpi dataa (.csv tiedostot) ja valita \"tilin nimi\" sarakkeesta saman nimiset tai lähellä toisiaan olevat tilit.\n",
    "\n",
    "Seuraavaksi tehtävänäsi on analysoida kustannuksia näiden kahden kunnan välillä. Esim. kuinka paljon kustannuksia on kuljetuspalveluissa tai paljonko rahaa menee sivistykseen."
   ]
  },
  {
   "cell_type": "markdown",
   "metadata": {},
   "source": [
    "## Esimerkki 1\n",
    "Summataan vuoden aikana kertyneet ostolaskut tilin nimen perusteella."
   ]
  },
  {
   "cell_type": "code",
   "execution_count": 8,
   "metadata": {},
   "outputs": [
    {
     "data": {
      "text/html": [
       "<div>\n",
       "<style scoped>\n",
       "    .dataframe tbody tr th:only-of-type {\n",
       "        vertical-align: middle;\n",
       "    }\n",
       "\n",
       "    .dataframe tbody tr th {\n",
       "        vertical-align: top;\n",
       "    }\n",
       "\n",
       "    .dataframe thead th {\n",
       "        text-align: right;\n",
       "    }\n",
       "</style>\n",
       "<table border=\"1\" class=\"dataframe\">\n",
       "  <thead>\n",
       "    <tr style=\"text-align: right;\">\n",
       "      <th></th>\n",
       "      <th>Rivin nettosumma</th>\n",
       "    </tr>\n",
       "    <tr>\n",
       "      <th>Tilin nimi</th>\n",
       "      <th></th>\n",
       "    </tr>\n",
       "  </thead>\n",
       "  <tbody>\n",
       "    <tr>\n",
       "      <th>Kuntatod. Kuntarahoitus Oy:ltä (l.a)</th>\n",
       "      <td>60500000.00</td>\n",
       "    </tr>\n",
       "    <tr>\n",
       "      <th>Keskener.hankinnat muiden rak.uudisrak</th>\n",
       "      <td>5342568.42</td>\n",
       "    </tr>\n",
       "    <tr>\n",
       "      <th>Lyhennysosuudet/kotim.rah.laitok. (l.a)</th>\n",
       "      <td>5323370.00</td>\n",
       "    </tr>\n",
       "    <tr>\n",
       "      <th>KuEL-maksu/ työnantaja</th>\n",
       "      <td>3662746.14</td>\n",
       "    </tr>\n",
       "    <tr>\n",
       "      <th>Keskener.hank. kiinteät rak. ja laitteet</th>\n",
       "      <td>2144224.20</td>\n",
       "    </tr>\n",
       "    <tr>\n",
       "      <th>...</th>\n",
       "      <td>...</td>\n",
       "    </tr>\n",
       "    <tr>\n",
       "      <th>Asiakaspalvelujen osto valtiolta</th>\n",
       "      <td>152.00</td>\n",
       "    </tr>\n",
       "    <tr>\n",
       "      <th>Myyntireskontran selvittelytili</th>\n",
       "      <td>147.16</td>\n",
       "    </tr>\n",
       "    <tr>\n",
       "      <th>MYRE-välitili</th>\n",
       "      <td>107.78</td>\n",
       "    </tr>\n",
       "    <tr>\n",
       "      <th>LLKY:ltä siirtyvät saatavat</th>\n",
       "      <td>0.00</td>\n",
       "    </tr>\n",
       "    <tr>\n",
       "      <th>Kuel/eläkemenoperusteinen maksu</th>\n",
       "      <td>-6214.84</td>\n",
       "    </tr>\n",
       "  </tbody>\n",
       "</table>\n",
       "<p>101 rows × 1 columns</p>\n",
       "</div>"
      ],
      "text/plain": [
       "                                          Rivin nettosumma\n",
       "Tilin nimi                                                \n",
       "Kuntatod. Kuntarahoitus Oy:ltä (l.a)           60500000.00\n",
       "Keskener.hankinnat muiden rak.uudisrak          5342568.42\n",
       "Lyhennysosuudet/kotim.rah.laitok. (l.a)         5323370.00\n",
       "KuEL-maksu/ työnantaja                          3662746.14\n",
       "Keskener.hank. kiinteät rak. ja laitteet        2144224.20\n",
       "...                                                    ...\n",
       "Asiakaspalvelujen osto valtiolta                    152.00\n",
       "Myyntireskontran selvittelytili                     147.16\n",
       "MYRE-välitili                                       107.78\n",
       "LLKY:ltä siirtyvät saatavat                           0.00\n",
       "Kuel/eläkemenoperusteinen maksu                   -6214.84\n",
       "\n",
       "[101 rows x 1 columns]"
      ]
     },
     "execution_count": 8,
     "metadata": {},
     "output_type": "execute_result"
    }
   ],
   "source": [
    "import os\n",
    "import pandas as pd\n",
    "\n",
    "def analyze_invoices():\n",
    "    invoices = pd.read_csv('./kauhajoen-kaupunki_ostolaskut_2023.csv', encoding='windows-1252', sep=';')\n",
    "    return invoices.groupby('Tilin nimi').agg({'Rivin nettosumma': 'sum'}).sort_values('Rivin nettosumma', ascending=False)\n",
    "analyze_invoices()"
   ]
  },
  {
   "cell_type": "markdown",
   "metadata": {},
   "source": []
  },
  {
   "cell_type": "code",
   "execution_count": null,
   "metadata": {},
   "outputs": [],
   "source": [
    "#Päivämäärien korjaaminen standardimuotoon DDMMYYYY\n",
    "invoices[\"Tositepvm\"] = invoices[\"Tositepvm\"].astype(str).str.zfill(8)"
   ]
  },
  {
   "cell_type": "markdown",
   "metadata": {},
   "source": [
    "## Työpaja Osa - 2\n",
    "Seuraavaksi visualisoimme edellisessä analyysissä olevia tietoja, jolloin niistä tulee helpommin hahmotettavia. Tässä käytetään x-kirjastoa datan visualisointiin.\n",
    "\n",
    "Tehtävänäsi on luoda kuvaajat datalle, jossa verrataan molempien kuntien top 5 kuluja."
   ]
  },
  {
   "cell_type": "markdown",
   "metadata": {},
   "source": [
    "# Esimerkki 2"
   ]
  },
  {
   "cell_type": "code",
   "execution_count": null,
   "metadata": {},
   "outputs": [],
   "source": [
    "# Koodia tähän"
   ]
  },
  {
   "cell_type": "markdown",
   "metadata": {},
   "source": [
    "## Työpaja osa - 3\n",
    "Seuraavaksi rikastutamme dataamme lisää hakemalla asukasmäärät kunnille Tilastokeskuksen rajapinnasta."
   ]
  },
  {
   "cell_type": "code",
   "execution_count": null,
   "metadata": {},
   "outputs": [
    {
     "data": {
      "text/plain": [
       "[68319, 12618]"
      ]
     },
     "execution_count": 1,
     "metadata": {},
     "output_type": "execute_result"
    }
   ],
   "source": [
    "import requests\n",
    "import json\n",
    "def get_population():\n",
    "    url = 'https://pxdata.stat.fi:443/PxWeb/api/v1/fi/Kuntien_avainluvut/2023/kuntien_avainluvut_2023_viimeisin.px'\n",
    "    data = json.dumps({\"query\": [{\"code\": \"Alue\",\"selection\": {\"filter\": \"agg:_- Kunnat aakkosjärjestyksessä 2023.agg\",\"values\": [\"KU109\",\"KU232\"]}},{\"code\": \"Tiedot\",\"selection\": {\"filter\": \"item\",\"values\": [\"M411\"]}}],\"response\": {\"format\": \"json-stat2\"}})\n",
    "    headers = {'Content-Type': 'application/json'}\n",
    "    r = requests.post(url, headers=headers, data=data)\n",
    "    r.raise_for_status()\n",
    "    result = r.json()\n",
    "    return result['value'] # Palauttaa listan, jossa on kaksi arvoa: Hämeenlinnan ja Kauhajoen väkiluvut\n",
    "get_population()"
   ]
  }
 ],
 "metadata": {
  "kernelspec": {
   "display_name": "Python 3",
   "language": "python",
   "name": "python3"
  },
  "language_info": {
   "codemirror_mode": {
    "name": "ipython",
    "version": 3
   },
   "file_extension": ".py",
   "mimetype": "text/x-python",
   "name": "python",
   "nbconvert_exporter": "python",
   "pygments_lexer": "ipython3",
   "version": "3.12.3"
  }
 },
 "nbformat": 4,
 "nbformat_minor": 2
}
